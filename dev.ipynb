{
 "cells": [
  {
   "cell_type": "code",
   "execution_count": 1,
   "id": "01bf75ca",
   "metadata": {},
   "outputs": [
    {
     "name": "stderr",
     "output_type": "stream",
     "text": [
      "c:\\Users\\freak\\miniforge3\\envs\\qsar\\Lib\\site-packages\\chembl_webresource_client\\__init__.py:4: UserWarning: pkg_resources is deprecated as an API. See https://setuptools.pypa.io/en/latest/pkg_resources.html. The pkg_resources package is slated for removal as early as 2025-11-30. Refrain from using this package or pin to Setuptools<81.\n",
      "  __version__ = __import__('pkg_resources').get_distribution('chembl_webresource_client').version\n",
      "c:\\Users\\freak\\miniforge3\\envs\\qsar\\Lib\\site-packages\\tqdm\\auto.py:21: TqdmWarning: IProgress not found. Please update jupyter and ipywidgets. See https://ipywidgets.readthedocs.io/en/stable/user_install.html\n",
      "  from .autonotebook import tqdm as notebook_tqdm\n"
     ]
    }
   ],
   "source": [
    "import pandas as pd\n",
    "from chembl_webresource_client.new_client import new_client\n",
    "from rdkit import Chem\n",
    "from rdkit.Chem import AllChem\n",
    "from tqdm.auto import tqdm\n",
    "import numpy as np"
   ]
  },
  {
   "cell_type": "code",
   "execution_count": 2,
   "id": "23cd535b",
   "metadata": {},
   "outputs": [
    {
     "name": "stdout",
     "output_type": "stream",
     "text": [
      "['activity', 'activity_supplementary_data_by_activity', 'assay', 'assay_class', 'atc_class', 'binding_site', 'biotherapeutic', 'cell_line', 'chembl_id_lookup', 'chembl_release', 'compound_record', 'compound_structural_alert', 'description', 'document', 'document_similarity', 'drug', 'drug_indication', 'drug_warning', 'go_slim', 'image', 'mechanism', 'metabolism', 'molecule', 'molecule_form', 'official', 'organism', 'protein_classification', 'similarity', 'source', 'substructure', 'target', 'target_component', 'target_relation', 'tissue', 'xref_source']\n"
     ]
    }
   ],
   "source": [
    "available_resources = [resource for resource in dir(new_client) if not resource.startswith('_')]\n",
    "print(available_resources)"
   ]
  },
  {
   "cell_type": "code",
   "execution_count": 3,
   "id": "33d368a2",
   "metadata": {},
   "outputs": [
    {
     "data": {
      "text/plain": [
       "[{'molecule_chembl_id': 'CHEMBL1737'}]"
      ]
     },
     "execution_count": 3,
     "metadata": {},
     "output_type": "execute_result"
    }
   ],
   "source": [
    "molecule = new_client.molecule\n",
    "mols = molecule.filter(molecule_synonyms__molecule_synonym__iexact='viagra').only('molecule_chembl_id')\n",
    "mols"
   ]
  },
  {
   "cell_type": "code",
   "execution_count": 19,
   "id": "9bcb7aaf",
   "metadata": {},
   "outputs": [
    {
     "data": {
      "image/svg+xml": [
       "<svg xmlns=\"http://www.w3.org/2000/svg\" xmlns:rdkit=\"http://www.rdkit.org/xml\" xmlns:xlink=\"http://www.w3.org/1999/xlink\" version=\"1.1\" baseProfile=\"full\" xml:space=\"preserve\" width=\"500px\" height=\"500px\" viewBox=\"0 0 500 500\">\n",
       "<!-- END OF HEADER -->\n",
       "<path class=\"bond-0 atom-10 atom-11\" d=\"M 412.7,461.6 L 460.0,433.8\" style=\"fill:none;fill-rule:evenodd;stroke:#000000;stroke-width:2.0px;stroke-linecap:butt;stroke-linejoin:miter;stroke-opacity:1\"/>\n",
       "<path class=\"bond-0 atom-10 atom-11\" d=\"M 412.7,452.1 L 451.7,429.1\" style=\"fill:none;fill-rule:evenodd;stroke:#000000;stroke-width:2.0px;stroke-linecap:butt;stroke-linejoin:miter;stroke-opacity:1\"/>\n",
       "<path class=\"bond-1 atom-4 atom-5\" d=\"M 128.4,407.8 L 112.0,398.4\" style=\"fill:none;fill-rule:evenodd;stroke:#000000;stroke-width:2.0px;stroke-linecap:butt;stroke-linejoin:miter;stroke-opacity:1\"/>\n",
       "<path class=\"bond-1 atom-4 atom-5\" d=\"M 112.0,398.4 L 95.6,389.0\" style=\"fill:none;fill-rule:evenodd;stroke:#FF0000;stroke-width:2.0px;stroke-linecap:butt;stroke-linejoin:miter;stroke-opacity:1\"/>\n",
       "<path class=\"bond-2 atom-11 atom-12\" d=\"M 460.0,433.8 L 460.0,379.0\" style=\"fill:none;fill-rule:evenodd;stroke:#000000;stroke-width:2.0px;stroke-linecap:butt;stroke-linejoin:miter;stroke-opacity:1\"/>\n",
       "<path class=\"bond-3 atom-1 atom-2\" d=\"M 190.2,316.7 L 206.5,307.2\" style=\"fill:none;fill-rule:evenodd;stroke:#FF0000;stroke-width:2.0px;stroke-linecap:butt;stroke-linejoin:miter;stroke-opacity:1\"/>\n",
       "<path class=\"bond-3 atom-1 atom-2\" d=\"M 206.5,307.2 L 222.8,297.7\" style=\"fill:none;fill-rule:evenodd;stroke:#000000;stroke-width:2.0px;stroke-linecap:butt;stroke-linejoin:miter;stroke-opacity:1\"/>\n",
       "<path class=\"bond-4 atom-12 atom-13\" d=\"M 460.0,379.0 L 412.5,351.6\" style=\"fill:none;fill-rule:evenodd;stroke:#000000;stroke-width:2.0px;stroke-linecap:butt;stroke-linejoin:miter;stroke-opacity:1\"/>\n",
       "<path class=\"bond-5 atom-4 atom-6\" d=\"M 124.3,405.4 L 124.4,426.0\" style=\"fill:none;fill-rule:evenodd;stroke:#000000;stroke-width:2.0px;stroke-linecap:butt;stroke-linejoin:miter;stroke-opacity:1\"/>\n",
       "<path class=\"bond-5 atom-4 atom-6\" d=\"M 124.4,426.0 L 124.5,446.5\" style=\"fill:none;fill-rule:evenodd;stroke:#FF0000;stroke-width:2.0px;stroke-linecap:butt;stroke-linejoin:miter;stroke-opacity:1\"/>\n",
       "<path class=\"bond-5 atom-4 atom-6\" d=\"M 132.5,405.4 L 132.6,425.9\" style=\"fill:none;fill-rule:evenodd;stroke:#000000;stroke-width:2.0px;stroke-linecap:butt;stroke-linejoin:miter;stroke-opacity:1\"/>\n",
       "<path class=\"bond-5 atom-4 atom-6\" d=\"M 132.6,425.9 L 132.7,446.5\" style=\"fill:none;fill-rule:evenodd;stroke:#FF0000;stroke-width:2.0px;stroke-linecap:butt;stroke-linejoin:miter;stroke-opacity:1\"/>\n",
       "<path class=\"bond-6 atom-13 atom-14\" d=\"M 412.5,351.6 L 412.6,296.8\" style=\"fill:none;fill-rule:evenodd;stroke:#000000;stroke-width:2.0px;stroke-linecap:butt;stroke-linejoin:miter;stroke-opacity:1\"/>\n",
       "<path class=\"bond-7 atom-14 atom-15\" d=\"M 412.6,296.8 L 365.1,269.4\" style=\"fill:none;fill-rule:evenodd;stroke:#000000;stroke-width:2.0px;stroke-linecap:butt;stroke-linejoin:miter;stroke-opacity:1\"/>\n",
       "<path class=\"bond-8 atom-3 atom-7\" d=\"M 223.3,407.3 L 270.6,379.7\" style=\"fill:none;fill-rule:evenodd;stroke:#000000;stroke-width:2.0px;stroke-linecap:butt;stroke-linejoin:miter;stroke-opacity:1\"/>\n",
       "<path class=\"bond-9 atom-15 atom-16\" d=\"M 365.1,269.4 L 365.2,214.6\" style=\"fill:none;fill-rule:evenodd;stroke:#000000;stroke-width:2.0px;stroke-linecap:butt;stroke-linejoin:miter;stroke-opacity:1\"/>\n",
       "<path class=\"bond-10 atom-0 atom-3\" d=\"M 175.7,380.1 L 223.3,407.3\" style=\"fill:none;fill-rule:evenodd;stroke:#000000;stroke-width:2.0px;stroke-linecap:butt;stroke-linejoin:miter;stroke-opacity:1\"/>\n",
       "<path class=\"bond-11 atom-15 atom-17\" d=\"M 365.1,269.4 L 317.7,296.7\" style=\"fill:none;fill-rule:evenodd;stroke:#000000;stroke-width:2.0px;stroke-linecap:butt;stroke-linejoin:miter;stroke-opacity:1\"/>\n",
       "<path class=\"bond-12 atom-7 atom-8\" d=\"M 270.6,379.7 L 318.2,406.8\" style=\"fill:none;fill-rule:evenodd;stroke:#000000;stroke-width:2.0px;stroke-linecap:butt;stroke-linejoin:miter;stroke-opacity:1\"/>\n",
       "<path class=\"bond-13 atom-16 atom-18\" d=\"M 365.2,214.6 L 317.7,187.2\" style=\"fill:none;fill-rule:evenodd;stroke:#000000;stroke-width:2.0px;stroke-linecap:butt;stroke-linejoin:miter;stroke-opacity:1\"/>\n",
       "<path class=\"bond-14 atom-0 atom-1\" d=\"M 175.7,380.1 L 173.6,361.9 L 177.7,361.9 Z\" style=\"fill:#000000;fill-rule:evenodd;fill-opacity:1;stroke:#000000;stroke-width:0.5px;stroke-linecap:butt;stroke-linejoin:miter;stroke-opacity:1;\"/>\n",
       "<path class=\"bond-14 atom-0 atom-1\" d=\"M 173.6,361.9 L 179.7,343.6 L 171.4,343.7 Z\" style=\"fill:#FF0000;fill-rule:evenodd;fill-opacity:1;stroke:#FF0000;stroke-width:0.5px;stroke-linecap:butt;stroke-linejoin:miter;stroke-opacity:1;\"/>\n",
       "<path class=\"bond-14 atom-0 atom-1\" d=\"M 173.6,361.9 L 177.7,361.9 L 179.7,343.6 Z\" style=\"fill:#FF0000;fill-rule:evenodd;fill-opacity:1;stroke:#FF0000;stroke-width:0.5px;stroke-linecap:butt;stroke-linejoin:miter;stroke-opacity:1;\"/>\n",
       "<path class=\"bond-15 atom-18 atom-19\" d=\"M 317.7,187.2 L 317.8,132.4\" style=\"fill:none;fill-rule:evenodd;stroke:#000000;stroke-width:2.0px;stroke-linecap:butt;stroke-linejoin:miter;stroke-opacity:1\"/>\n",
       "<path class=\"bond-16 atom-8 atom-9\" d=\"M 318.2,406.8 L 365.3,434.1\" style=\"fill:none;fill-rule:evenodd;stroke:#000000;stroke-width:2.0px;stroke-linecap:butt;stroke-linejoin:miter;stroke-opacity:1\"/>\n",
       "<path class=\"bond-16 atom-8 atom-9\" d=\"M 322.3,399.7 L 369.4,427.0\" style=\"fill:none;fill-rule:evenodd;stroke:#000000;stroke-width:2.0px;stroke-linecap:butt;stroke-linejoin:miter;stroke-opacity:1\"/>\n",
       "<path class=\"bond-16 atom-8 atom-9\" d=\"M 314.1,413.9 L 361.2,441.2\" style=\"fill:none;fill-rule:evenodd;stroke:#000000;stroke-width:2.0px;stroke-linecap:butt;stroke-linejoin:miter;stroke-opacity:1\"/>\n",
       "<path class=\"bond-17 atom-19 atom-20\" d=\"M 317.8,132.4 L 270.3,104.9\" style=\"fill:none;fill-rule:evenodd;stroke:#000000;stroke-width:2.0px;stroke-linecap:butt;stroke-linejoin:miter;stroke-opacity:1\"/>\n",
       "<path class=\"bond-18 atom-0 atom-4\" d=\"M 175.7,380.1 L 128.4,407.8\" style=\"fill:none;fill-rule:evenodd;stroke:#000000;stroke-width:2.0px;stroke-linecap:butt;stroke-linejoin:miter;stroke-opacity:1\"/>\n",
       "<path class=\"bond-19 atom-20 atom-21\" d=\"M 270.3,104.9 L 270.3,50.2\" style=\"fill:none;fill-rule:evenodd;stroke:#000000;stroke-width:2.0px;stroke-linecap:butt;stroke-linejoin:miter;stroke-opacity:1\"/>\n",
       "<path class=\"bond-20 atom-9 atom-10\" d=\"M 365.3,434.1 L 412.7,461.6\" style=\"fill:none;fill-rule:evenodd;stroke:#000000;stroke-width:2.0px;stroke-linecap:butt;stroke-linejoin:miter;stroke-opacity:1\"/>\n",
       "<path class=\"bond-21 atom-21 atom-22\" d=\"M 270.3,50.2 L 222.9,22.7\" style=\"fill:none;fill-rule:evenodd;stroke:#000000;stroke-width:2.0px;stroke-linecap:butt;stroke-linejoin:miter;stroke-opacity:1\"/>\n",
       "<path class=\"bond-21 atom-21 atom-22\" d=\"M 262.1,54.9 L 218.8,29.8\" style=\"fill:none;fill-rule:evenodd;stroke:#000000;stroke-width:2.0px;stroke-linecap:butt;stroke-linejoin:miter;stroke-opacity:1\"/>\n",
       "<path d=\"M 178.1,381.5 L 175.7,380.1 L 173.4,381.5\" style=\"fill:none;stroke:#000000;stroke-width:2.0px;stroke-linecap:butt;stroke-linejoin:miter;stroke-opacity:1;\"/>\n",
       "<path d=\"M 225.7,405.9 L 223.3,407.3 L 220.9,405.9\" style=\"fill:none;stroke:#000000;stroke-width:2.0px;stroke-linecap:butt;stroke-linejoin:miter;stroke-opacity:1;\"/>\n",
       "<path d=\"M 127.6,407.3 L 128.4,407.8 L 130.8,406.4\" style=\"fill:none;stroke:#000000;stroke-width:2.0px;stroke-linecap:butt;stroke-linejoin:miter;stroke-opacity:1;\"/>\n",
       "<path d=\"M 268.3,381.0 L 270.6,379.7 L 273.0,381.0\" style=\"fill:none;stroke:#000000;stroke-width:2.0px;stroke-linecap:butt;stroke-linejoin:miter;stroke-opacity:1;\"/>\n",
       "<path d=\"M 315.8,405.5 L 318.2,406.8 L 320.6,408.2\" style=\"fill:none;stroke:#000000;stroke-width:2.0px;stroke-linecap:butt;stroke-linejoin:miter;stroke-opacity:1;\"/>\n",
       "<path d=\"M 362.9,432.7 L 365.3,434.1 L 367.7,435.5\" style=\"fill:none;stroke:#000000;stroke-width:2.0px;stroke-linecap:butt;stroke-linejoin:miter;stroke-opacity:1;\"/>\n",
       "<path d=\"M 415.1,460.2 L 412.7,461.6 L 410.3,460.2\" style=\"fill:none;stroke:#000000;stroke-width:2.0px;stroke-linecap:butt;stroke-linejoin:miter;stroke-opacity:1;\"/>\n",
       "<path d=\"M 457.6,435.2 L 460.0,433.8 L 460.0,431.1\" style=\"fill:none;stroke:#000000;stroke-width:2.0px;stroke-linecap:butt;stroke-linejoin:miter;stroke-opacity:1;\"/>\n",
       "<path d=\"M 460.0,381.7 L 460.0,379.0 L 457.6,377.6\" style=\"fill:none;stroke:#000000;stroke-width:2.0px;stroke-linecap:butt;stroke-linejoin:miter;stroke-opacity:1;\"/>\n",
       "<path d=\"M 414.9,353.0 L 412.5,351.6 L 412.5,348.8\" style=\"fill:none;stroke:#000000;stroke-width:2.0px;stroke-linecap:butt;stroke-linejoin:miter;stroke-opacity:1;\"/>\n",
       "<path d=\"M 412.6,299.5 L 412.6,296.8 L 410.2,295.4\" style=\"fill:none;stroke:#000000;stroke-width:2.0px;stroke-linecap:butt;stroke-linejoin:miter;stroke-opacity:1;\"/>\n",
       "<path d=\"M 365.2,217.3 L 365.2,214.6 L 362.8,213.2\" style=\"fill:none;stroke:#000000;stroke-width:2.0px;stroke-linecap:butt;stroke-linejoin:miter;stroke-opacity:1;\"/>\n",
       "<path d=\"M 320.1,188.5 L 317.7,187.2 L 317.7,184.4\" style=\"fill:none;stroke:#000000;stroke-width:2.0px;stroke-linecap:butt;stroke-linejoin:miter;stroke-opacity:1;\"/>\n",
       "<path d=\"M 317.7,135.1 L 317.8,132.4 L 315.4,131.0\" style=\"fill:none;stroke:#000000;stroke-width:2.0px;stroke-linecap:butt;stroke-linejoin:miter;stroke-opacity:1;\"/>\n",
       "<path d=\"M 272.7,106.3 L 270.3,104.9 L 270.3,102.2\" style=\"fill:none;stroke:#000000;stroke-width:2.0px;stroke-linecap:butt;stroke-linejoin:miter;stroke-opacity:1;\"/>\n",
       "<path d=\"M 270.3,52.9 L 270.3,50.2 L 268.0,48.8\" style=\"fill:none;stroke:#000000;stroke-width:2.0px;stroke-linecap:butt;stroke-linejoin:miter;stroke-opacity:1;\"/>\n",
       "<path class=\"atom-1\" d=\"M 162.5 325.4 Q 162.5 318.7, 165.9 314.9 Q 169.2 311.1, 175.5 311.1 Q 181.7 311.1, 185.1 314.9 Q 188.4 318.7, 188.4 325.4 Q 188.4 332.3, 185.0 336.2 Q 181.6 340.1, 175.5 340.1 Q 169.2 340.1, 165.9 336.2 Q 162.5 332.3, 162.5 325.4 M 175.5 336.9 Q 179.8 336.9, 182.1 334.0 Q 184.4 331.1, 184.4 325.4 Q 184.4 319.9, 182.1 317.1 Q 179.8 314.3, 175.5 314.3 Q 171.2 314.3, 168.8 317.1 Q 166.5 319.8, 166.5 325.4 Q 166.5 331.1, 168.8 334.0 Q 171.2 336.9, 175.5 336.9 \" fill=\"#FF0000\"/>\n",
       "<path class=\"atom-5\" d=\"M 40.0 366.7 L 43.8 366.7 L 43.8 378.7 L 58.3 378.7 L 58.3 366.7 L 62.1 366.7 L 62.1 394.9 L 58.3 394.9 L 58.3 381.9 L 43.8 381.9 L 43.8 394.9 L 40.0 394.9 L 40.0 366.7 \" fill=\"#FF0000\"/>\n",
       "<path class=\"atom-5\" d=\"M 67.9 380.7 Q 67.9 373.9, 71.2 370.1 Q 74.6 366.4, 80.8 366.4 Q 87.1 366.4, 90.4 370.1 Q 93.8 373.9, 93.8 380.7 Q 93.8 387.6, 90.4 391.5 Q 87.0 395.3, 80.8 395.3 Q 74.6 395.3, 71.2 391.5 Q 67.9 387.6, 67.9 380.7 M 80.8 392.1 Q 85.1 392.1, 87.4 389.3 Q 89.8 386.4, 89.8 380.7 Q 89.8 375.2, 87.4 372.4 Q 85.1 369.5, 80.8 369.5 Q 76.5 369.5, 74.2 372.3 Q 71.9 375.1, 71.9 380.7 Q 71.9 386.4, 74.2 389.3 Q 76.5 392.1, 80.8 392.1 \" fill=\"#FF0000\"/>\n",
       "<path class=\"atom-6\" d=\"M 115.7 462.6 Q 115.7 455.9, 119.1 452.1 Q 122.4 448.3, 128.7 448.3 Q 135.0 448.3, 138.3 452.1 Q 141.7 455.9, 141.7 462.6 Q 141.7 469.5, 138.3 473.4 Q 134.9 477.3, 128.7 477.3 Q 122.5 477.3, 119.1 473.4 Q 115.7 469.5, 115.7 462.6 M 128.7 474.1 Q 133.0 474.1, 135.3 471.2 Q 137.7 468.3, 137.7 462.6 Q 137.7 457.1, 135.3 454.3 Q 133.0 451.5, 128.7 451.5 Q 124.4 451.5, 122.0 454.3 Q 119.7 457.1, 119.7 462.6 Q 119.7 468.3, 122.0 471.2 Q 124.4 474.1, 128.7 474.1 \" fill=\"#FF0000\"/>\n",
       "</svg>"
      ],
      "text/plain": [
       "<IPython.core.display.SVG object>"
      ]
     },
     "execution_count": 19,
     "metadata": {},
     "output_type": "execute_result"
    }
   ],
   "source": [
    "from IPython.display import SVG\n",
    "\n",
    "image = new_client.image\n",
    "image.set_format('svg')\n",
    "SVG(image.get('CHEMBL477888'))"
   ]
  },
  {
   "cell_type": "code",
   "execution_count": 20,
   "id": "254b30ed",
   "metadata": {},
   "outputs": [
    {
     "ename": "KeyboardInterrupt",
     "evalue": "",
     "output_type": "error",
     "traceback": [
      "\u001b[31m---------------------------------------------------------------------------\u001b[39m",
      "\u001b[31mKeyboardInterrupt\u001b[39m                         Traceback (most recent call last)",
      "\u001b[36mCell\u001b[39m\u001b[36m \u001b[39m\u001b[32mIn[20]\u001b[39m\u001b[32m, line 5\u001b[39m\n\u001b[32m      3\u001b[39m image = new_client.image\n\u001b[32m      4\u001b[39m image.set_format(\u001b[33m'\u001b[39m\u001b[33msvg\u001b[39m\u001b[33m'\u001b[39m)\n\u001b[32m----> \u001b[39m\u001b[32m5\u001b[39m SVG(\u001b[43mimage\u001b[49m\u001b[43m.\u001b[49m\u001b[43mget\u001b[49m\u001b[43m(\u001b[49m\u001b[33;43m'\u001b[39;49m\u001b[33;43mCHEMBL240\u001b[39;49m\u001b[33;43m'\u001b[39;49m\u001b[43m)\u001b[49m)\n",
      "\u001b[36mFile \u001b[39m\u001b[32mc:\\Users\\freak\\miniforge3\\envs\\qsar\\Lib\\site-packages\\chembl_webresource_client\\query_set.py:176\u001b[39m, in \u001b[36mQuerySet.get\u001b[39m\u001b[34m(self, *args, **kwargs)\u001b[39m\n\u001b[32m    174\u001b[39m \u001b[38;5;28;01mdef\u001b[39;00m\u001b[38;5;250m \u001b[39m\u001b[34mget\u001b[39m(\u001b[38;5;28mself\u001b[39m, *args, **kwargs):\n\u001b[32m    175\u001b[39m     \u001b[38;5;28;01mif\u001b[39;00m args:\n\u001b[32m--> \u001b[39m\u001b[32m176\u001b[39m         \u001b[38;5;28;01mreturn\u001b[39;00m \u001b[38;5;28;43mself\u001b[39;49m\u001b[43m.\u001b[49m\u001b[43mquery\u001b[49m\u001b[43m.\u001b[49m\u001b[43mget\u001b[49m\u001b[43m(\u001b[49m\u001b[43m*\u001b[49m\u001b[43margs\u001b[49m\u001b[43m,\u001b[49m\u001b[43m \u001b[49m\u001b[43m*\u001b[49m\u001b[43m*\u001b[49m\u001b[43mkwargs\u001b[49m\u001b[43m)\u001b[49m\n\u001b[32m    177\u001b[39m     \u001b[38;5;28;01mif\u001b[39;00m kwargs:\n\u001b[32m    178\u001b[39m         clone = \u001b[38;5;28mself\u001b[39m._clone()\n",
      "\u001b[36mFile \u001b[39m\u001b[32mc:\\Users\\freak\\miniforge3\\envs\\qsar\\Lib\\site-packages\\chembl_webresource_client\\url_query.py:271\u001b[39m, in \u001b[36mUrlQuery.get\u001b[39m\u001b[34m(self, *args, **kwargs)\u001b[39m\n\u001b[32m    269\u001b[39m \u001b[38;5;28;01mdef\u001b[39;00m\u001b[38;5;250m \u001b[39m\u001b[34mget\u001b[39m(\u001b[38;5;28mself\u001b[39m, *args, **kwargs):\n\u001b[32m    270\u001b[39m     \u001b[38;5;28;01mif\u001b[39;00m args:\n\u001b[32m--> \u001b[39m\u001b[32m271\u001b[39m         \u001b[38;5;28;01mreturn\u001b[39;00m \u001b[38;5;28;43mself\u001b[39;49m\u001b[43m.\u001b[49m\u001b[43m_get_by_ids\u001b[49m\u001b[43m(\u001b[49m\u001b[43margs\u001b[49m\u001b[43m[\u001b[49m\u001b[32;43m0\u001b[39;49m\u001b[43m]\u001b[49m\u001b[43m)\u001b[49m\n\u001b[32m    272\u001b[39m     \u001b[38;5;28;01mif\u001b[39;00m kwargs \u001b[38;5;129;01mand\u001b[39;00m \u001b[38;5;28mself\u001b[39m.allows_list:\n\u001b[32m    273\u001b[39m         \u001b[38;5;28;01mreturn\u001b[39;00m \u001b[38;5;28mself\u001b[39m._get_by_names(*\u001b[38;5;28mlist\u001b[39m(kwargs.items())[\u001b[32m0\u001b[39m])\n",
      "\u001b[36mFile \u001b[39m\u001b[32mc:\\Users\\freak\\miniforge3\\envs\\qsar\\Lib\\site-packages\\chembl_webresource_client\\url_query.py:306\u001b[39m, in \u001b[36mUrlQuery._get_by_ids\u001b[39m\u001b[34m(self, ids)\u001b[39m\n\u001b[32m    304\u001b[39m     \u001b[38;5;28;01mraise\u001b[39;00m \u001b[38;5;167;01mException\u001b[39;00m(\u001b[33m'\u001b[39m\u001b[33mURL \u001b[39m\u001b[38;5;132;01m{0}\u001b[39;00m\u001b[33m is longer than allowed \u001b[39m\u001b[38;5;132;01m{1}\u001b[39;00m\u001b[33m characters\u001b[39m\u001b[33m'\u001b[39m.format(url, \u001b[38;5;28mself\u001b[39m.max_url_size))\n\u001b[32m    305\u001b[39m \u001b[38;5;28;01mwith\u001b[39;00m \u001b[38;5;28mself\u001b[39m._get_session() \u001b[38;5;28;01mas\u001b[39;00m session:\n\u001b[32m--> \u001b[39m\u001b[32m306\u001b[39m     res = \u001b[43msession\u001b[49m\u001b[43m.\u001b[49m\u001b[43mget\u001b[49m\u001b[43m(\u001b[49m\u001b[43murl\u001b[49m\u001b[43m,\u001b[49m\u001b[43m \u001b[49m\u001b[43mheaders\u001b[49m\u001b[43m=\u001b[49m\u001b[43mheaders\u001b[49m\u001b[43m,\u001b[49m\u001b[43m \u001b[49m\u001b[43mtimeout\u001b[49m\u001b[43m=\u001b[49m\u001b[38;5;28;43mself\u001b[39;49m\u001b[43m.\u001b[49m\u001b[43mtimeout\u001b[49m\u001b[43m)\u001b[49m\n\u001b[32m    307\u001b[39m \u001b[38;5;28mself\u001b[39m.logger.info(res.url)\n\u001b[32m    308\u001b[39m \u001b[38;5;28mself\u001b[39m.logger.info(\u001b[33m'\u001b[39m\u001b[33mFrom cache: \u001b[39m\u001b[38;5;132;01m{0}\u001b[39;00m\u001b[33m'\u001b[39m.format(res.from_cache \u001b[38;5;28;01mif\u001b[39;00m \u001b[38;5;28mhasattr\u001b[39m(res, \u001b[33m'\u001b[39m\u001b[33mfrom_cache\u001b[39m\u001b[33m'\u001b[39m) \u001b[38;5;28;01melse\u001b[39;00m \u001b[38;5;28;01mFalse\u001b[39;00m))\n",
      "\u001b[36mFile \u001b[39m\u001b[32mc:\\Users\\freak\\miniforge3\\envs\\qsar\\Lib\\site-packages\\requests_cache\\session.py:127\u001b[39m, in \u001b[36mCacheMixin.get\u001b[39m\u001b[34m(self, url, params, **kwargs)\u001b[39m\n\u001b[32m    125\u001b[39m \u001b[38;5;28;01mdef\u001b[39;00m\u001b[38;5;250m \u001b[39m\u001b[34mget\u001b[39m(\u001b[38;5;28mself\u001b[39m, url: \u001b[38;5;28mstr\u001b[39m, params=\u001b[38;5;28;01mNone\u001b[39;00m, **kwargs) -> AnyResponse:  \u001b[38;5;66;03m# type: ignore\u001b[39;00m\n\u001b[32m    126\u001b[39m     kwargs.setdefault(\u001b[33m'\u001b[39m\u001b[33mallow_redirects\u001b[39m\u001b[33m'\u001b[39m, \u001b[38;5;28;01mTrue\u001b[39;00m)\n\u001b[32m--> \u001b[39m\u001b[32m127\u001b[39m     \u001b[38;5;28;01mreturn\u001b[39;00m \u001b[38;5;28;43mself\u001b[39;49m\u001b[43m.\u001b[49m\u001b[43mrequest\u001b[49m\u001b[43m(\u001b[49m\u001b[33;43m'\u001b[39;49m\u001b[33;43mGET\u001b[39;49m\u001b[33;43m'\u001b[39;49m\u001b[43m,\u001b[49m\u001b[43m \u001b[49m\u001b[43murl\u001b[49m\u001b[43m,\u001b[49m\u001b[43m \u001b[49m\u001b[43mparams\u001b[49m\u001b[43m=\u001b[49m\u001b[43mparams\u001b[49m\u001b[43m,\u001b[49m\u001b[43m \u001b[49m\u001b[43m*\u001b[49m\u001b[43m*\u001b[49m\u001b[43mkwargs\u001b[49m\u001b[43m)\u001b[49m\n",
      "\u001b[36mFile \u001b[39m\u001b[32mc:\\Users\\freak\\miniforge3\\envs\\qsar\\Lib\\site-packages\\requests_cache\\session.py:183\u001b[39m, in \u001b[36mCacheMixin.request\u001b[39m\u001b[34m(self, method, url, headers, expire_after, only_if_cached, refresh, force_refresh, *args, **kwargs)\u001b[39m\n\u001b[32m    181\u001b[39m headers = set_request_headers(headers, expire_after, only_if_cached, refresh, force_refresh)\n\u001b[32m    182\u001b[39m \u001b[38;5;28;01mwith\u001b[39;00m patch_form_boundary() \u001b[38;5;28;01mif\u001b[39;00m kwargs.get(\u001b[33m'\u001b[39m\u001b[33mfiles\u001b[39m\u001b[33m'\u001b[39m) \u001b[38;5;28;01melse\u001b[39;00m nullcontext():\n\u001b[32m--> \u001b[39m\u001b[32m183\u001b[39m     \u001b[38;5;28;01mreturn\u001b[39;00m \u001b[38;5;28;43msuper\u001b[39;49m\u001b[43m(\u001b[49m\u001b[43m)\u001b[49m\u001b[43m.\u001b[49m\u001b[43mrequest\u001b[49m\u001b[43m(\u001b[49m\u001b[43mmethod\u001b[49m\u001b[43m,\u001b[49m\u001b[43m \u001b[49m\u001b[43murl\u001b[49m\u001b[43m,\u001b[49m\u001b[43m \u001b[49m\u001b[43m*\u001b[49m\u001b[43margs\u001b[49m\u001b[43m,\u001b[49m\u001b[43m \u001b[49m\u001b[43mheaders\u001b[49m\u001b[43m=\u001b[49m\u001b[43mheaders\u001b[49m\u001b[43m,\u001b[49m\u001b[43m \u001b[49m\u001b[43m*\u001b[49m\u001b[43m*\u001b[49m\u001b[43mkwargs\u001b[49m\u001b[43m)\u001b[49m\n",
      "\u001b[36mFile \u001b[39m\u001b[32mc:\\Users\\freak\\miniforge3\\envs\\qsar\\Lib\\site-packages\\requests\\sessions.py:589\u001b[39m, in \u001b[36mSession.request\u001b[39m\u001b[34m(self, method, url, params, data, headers, cookies, files, auth, timeout, allow_redirects, proxies, hooks, stream, verify, cert, json)\u001b[39m\n\u001b[32m    584\u001b[39m send_kwargs = {\n\u001b[32m    585\u001b[39m     \u001b[33m\"\u001b[39m\u001b[33mtimeout\u001b[39m\u001b[33m\"\u001b[39m: timeout,\n\u001b[32m    586\u001b[39m     \u001b[33m\"\u001b[39m\u001b[33mallow_redirects\u001b[39m\u001b[33m\"\u001b[39m: allow_redirects,\n\u001b[32m    587\u001b[39m }\n\u001b[32m    588\u001b[39m send_kwargs.update(settings)\n\u001b[32m--> \u001b[39m\u001b[32m589\u001b[39m resp = \u001b[38;5;28;43mself\u001b[39;49m\u001b[43m.\u001b[49m\u001b[43msend\u001b[49m\u001b[43m(\u001b[49m\u001b[43mprep\u001b[49m\u001b[43m,\u001b[49m\u001b[43m \u001b[49m\u001b[43m*\u001b[49m\u001b[43m*\u001b[49m\u001b[43msend_kwargs\u001b[49m\u001b[43m)\u001b[49m\n\u001b[32m    591\u001b[39m \u001b[38;5;28;01mreturn\u001b[39;00m resp\n",
      "\u001b[36mFile \u001b[39m\u001b[32mc:\\Users\\freak\\miniforge3\\envs\\qsar\\Lib\\site-packages\\requests_cache\\session.py:230\u001b[39m, in \u001b[36mCacheMixin.send\u001b[39m\u001b[34m(self, request, expire_after, only_if_cached, refresh, force_refresh, **kwargs)\u001b[39m\n\u001b[32m    228\u001b[39m     response = \u001b[38;5;28mself\u001b[39m._resend(request, actions, cached_response, **kwargs)  \u001b[38;5;66;03m# type: ignore\u001b[39;00m\n\u001b[32m    229\u001b[39m \u001b[38;5;28;01melif\u001b[39;00m actions.send_request:\n\u001b[32m--> \u001b[39m\u001b[32m230\u001b[39m     response = \u001b[38;5;28;43mself\u001b[39;49m\u001b[43m.\u001b[49m\u001b[43m_send_and_cache\u001b[49m\u001b[43m(\u001b[49m\u001b[43mrequest\u001b[49m\u001b[43m,\u001b[49m\u001b[43m \u001b[49m\u001b[43mactions\u001b[49m\u001b[43m,\u001b[49m\u001b[43m \u001b[49m\u001b[43mcached_response\u001b[49m\u001b[43m,\u001b[49m\u001b[43m \u001b[49m\u001b[43m*\u001b[49m\u001b[43m*\u001b[49m\u001b[43mkwargs\u001b[49m\u001b[43m)\u001b[49m\n\u001b[32m    231\u001b[39m \u001b[38;5;28;01melse\u001b[39;00m:\n\u001b[32m    232\u001b[39m     response = cached_response  \u001b[38;5;66;03m# type: ignore  # Guaranteed to be non-None by this point\u001b[39;00m\n",
      "\u001b[36mFile \u001b[39m\u001b[32mc:\\Users\\freak\\miniforge3\\envs\\qsar\\Lib\\site-packages\\requests_cache\\session.py:254\u001b[39m, in \u001b[36mCacheMixin._send_and_cache\u001b[39m\u001b[34m(self, request, actions, cached_response, **kwargs)\u001b[39m\n\u001b[32m    250\u001b[39m \u001b[38;5;250m\u001b[39m\u001b[33;03m\"\"\"Send a request and cache the response, unless disabled by settings or headers.\u001b[39;00m\n\u001b[32m    251\u001b[39m \u001b[33;03mIf applicable, also handle conditional requests.\u001b[39;00m\n\u001b[32m    252\u001b[39m \u001b[33;03m\"\"\"\u001b[39;00m\n\u001b[32m    253\u001b[39m request = actions.update_request(request)\n\u001b[32m--> \u001b[39m\u001b[32m254\u001b[39m response = \u001b[38;5;28;43msuper\u001b[39;49m\u001b[43m(\u001b[49m\u001b[43m)\u001b[49m\u001b[43m.\u001b[49m\u001b[43msend\u001b[49m\u001b[43m(\u001b[49m\u001b[43mrequest\u001b[49m\u001b[43m,\u001b[49m\u001b[43m \u001b[49m\u001b[43m*\u001b[49m\u001b[43m*\u001b[49m\u001b[43mkwargs\u001b[49m\u001b[43m)\u001b[49m\n\u001b[32m    255\u001b[39m actions.update_from_response(response)\n\u001b[32m    257\u001b[39m \u001b[38;5;28;01mif\u001b[39;00m \u001b[38;5;129;01mnot\u001b[39;00m actions.skip_write:\n",
      "\u001b[36mFile \u001b[39m\u001b[32mc:\\Users\\freak\\miniforge3\\envs\\qsar\\Lib\\site-packages\\requests\\sessions.py:703\u001b[39m, in \u001b[36mSession.send\u001b[39m\u001b[34m(self, request, **kwargs)\u001b[39m\n\u001b[32m    700\u001b[39m start = preferred_clock()\n\u001b[32m    702\u001b[39m \u001b[38;5;66;03m# Send the request\u001b[39;00m\n\u001b[32m--> \u001b[39m\u001b[32m703\u001b[39m r = \u001b[43madapter\u001b[49m\u001b[43m.\u001b[49m\u001b[43msend\u001b[49m\u001b[43m(\u001b[49m\u001b[43mrequest\u001b[49m\u001b[43m,\u001b[49m\u001b[43m \u001b[49m\u001b[43m*\u001b[49m\u001b[43m*\u001b[49m\u001b[43mkwargs\u001b[49m\u001b[43m)\u001b[49m\n\u001b[32m    705\u001b[39m \u001b[38;5;66;03m# Total elapsed time of the request (approximately)\u001b[39;00m\n\u001b[32m    706\u001b[39m elapsed = preferred_clock() - start\n",
      "\u001b[36mFile \u001b[39m\u001b[32mc:\\Users\\freak\\miniforge3\\envs\\qsar\\Lib\\site-packages\\requests\\adapters.py:644\u001b[39m, in \u001b[36mHTTPAdapter.send\u001b[39m\u001b[34m(self, request, stream, timeout, verify, cert, proxies)\u001b[39m\n\u001b[32m    641\u001b[39m     timeout = TimeoutSauce(connect=timeout, read=timeout)\n\u001b[32m    643\u001b[39m \u001b[38;5;28;01mtry\u001b[39;00m:\n\u001b[32m--> \u001b[39m\u001b[32m644\u001b[39m     resp = \u001b[43mconn\u001b[49m\u001b[43m.\u001b[49m\u001b[43murlopen\u001b[49m\u001b[43m(\u001b[49m\n\u001b[32m    645\u001b[39m \u001b[43m        \u001b[49m\u001b[43mmethod\u001b[49m\u001b[43m=\u001b[49m\u001b[43mrequest\u001b[49m\u001b[43m.\u001b[49m\u001b[43mmethod\u001b[49m\u001b[43m,\u001b[49m\n\u001b[32m    646\u001b[39m \u001b[43m        \u001b[49m\u001b[43murl\u001b[49m\u001b[43m=\u001b[49m\u001b[43murl\u001b[49m\u001b[43m,\u001b[49m\n\u001b[32m    647\u001b[39m \u001b[43m        \u001b[49m\u001b[43mbody\u001b[49m\u001b[43m=\u001b[49m\u001b[43mrequest\u001b[49m\u001b[43m.\u001b[49m\u001b[43mbody\u001b[49m\u001b[43m,\u001b[49m\n\u001b[32m    648\u001b[39m \u001b[43m        \u001b[49m\u001b[43mheaders\u001b[49m\u001b[43m=\u001b[49m\u001b[43mrequest\u001b[49m\u001b[43m.\u001b[49m\u001b[43mheaders\u001b[49m\u001b[43m,\u001b[49m\n\u001b[32m    649\u001b[39m \u001b[43m        \u001b[49m\u001b[43mredirect\u001b[49m\u001b[43m=\u001b[49m\u001b[38;5;28;43;01mFalse\u001b[39;49;00m\u001b[43m,\u001b[49m\n\u001b[32m    650\u001b[39m \u001b[43m        \u001b[49m\u001b[43massert_same_host\u001b[49m\u001b[43m=\u001b[49m\u001b[38;5;28;43;01mFalse\u001b[39;49;00m\u001b[43m,\u001b[49m\n\u001b[32m    651\u001b[39m \u001b[43m        \u001b[49m\u001b[43mpreload_content\u001b[49m\u001b[43m=\u001b[49m\u001b[38;5;28;43;01mFalse\u001b[39;49;00m\u001b[43m,\u001b[49m\n\u001b[32m    652\u001b[39m \u001b[43m        \u001b[49m\u001b[43mdecode_content\u001b[49m\u001b[43m=\u001b[49m\u001b[38;5;28;43;01mFalse\u001b[39;49;00m\u001b[43m,\u001b[49m\n\u001b[32m    653\u001b[39m \u001b[43m        \u001b[49m\u001b[43mretries\u001b[49m\u001b[43m=\u001b[49m\u001b[38;5;28;43mself\u001b[39;49m\u001b[43m.\u001b[49m\u001b[43mmax_retries\u001b[49m\u001b[43m,\u001b[49m\n\u001b[32m    654\u001b[39m \u001b[43m        \u001b[49m\u001b[43mtimeout\u001b[49m\u001b[43m=\u001b[49m\u001b[43mtimeout\u001b[49m\u001b[43m,\u001b[49m\n\u001b[32m    655\u001b[39m \u001b[43m        \u001b[49m\u001b[43mchunked\u001b[49m\u001b[43m=\u001b[49m\u001b[43mchunked\u001b[49m\u001b[43m,\u001b[49m\n\u001b[32m    656\u001b[39m \u001b[43m    \u001b[49m\u001b[43m)\u001b[49m\n\u001b[32m    658\u001b[39m \u001b[38;5;28;01mexcept\u001b[39;00m (ProtocolError, \u001b[38;5;167;01mOSError\u001b[39;00m) \u001b[38;5;28;01mas\u001b[39;00m err:\n\u001b[32m    659\u001b[39m     \u001b[38;5;28;01mraise\u001b[39;00m \u001b[38;5;167;01mConnectionError\u001b[39;00m(err, request=request)\n",
      "\u001b[36mFile \u001b[39m\u001b[32mc:\\Users\\freak\\miniforge3\\envs\\qsar\\Lib\\site-packages\\urllib3\\connectionpool.py:942\u001b[39m, in \u001b[36mHTTPConnectionPool.urlopen\u001b[39m\u001b[34m(self, method, url, body, headers, retries, redirect, assert_same_host, timeout, pool_timeout, release_conn, chunked, body_pos, preload_content, decode_content, **response_kw)\u001b[39m\n\u001b[32m    940\u001b[39m     retries.sleep(response)\n\u001b[32m    941\u001b[39m     log.debug(\u001b[33m\"\u001b[39m\u001b[33mRetry: \u001b[39m\u001b[38;5;132;01m%s\u001b[39;00m\u001b[33m\"\u001b[39m, url)\n\u001b[32m--> \u001b[39m\u001b[32m942\u001b[39m     \u001b[38;5;28;01mreturn\u001b[39;00m \u001b[38;5;28;43mself\u001b[39;49m\u001b[43m.\u001b[49m\u001b[43murlopen\u001b[49m\u001b[43m(\u001b[49m\n\u001b[32m    943\u001b[39m \u001b[43m        \u001b[49m\u001b[43mmethod\u001b[49m\u001b[43m,\u001b[49m\n\u001b[32m    944\u001b[39m \u001b[43m        \u001b[49m\u001b[43murl\u001b[49m\u001b[43m,\u001b[49m\n\u001b[32m    945\u001b[39m \u001b[43m        \u001b[49m\u001b[43mbody\u001b[49m\u001b[43m,\u001b[49m\n\u001b[32m    946\u001b[39m \u001b[43m        \u001b[49m\u001b[43mheaders\u001b[49m\u001b[43m,\u001b[49m\n\u001b[32m    947\u001b[39m \u001b[43m        \u001b[49m\u001b[43mretries\u001b[49m\u001b[43m=\u001b[49m\u001b[43mretries\u001b[49m\u001b[43m,\u001b[49m\n\u001b[32m    948\u001b[39m \u001b[43m        \u001b[49m\u001b[43mredirect\u001b[49m\u001b[43m=\u001b[49m\u001b[43mredirect\u001b[49m\u001b[43m,\u001b[49m\n\u001b[32m    949\u001b[39m \u001b[43m        \u001b[49m\u001b[43massert_same_host\u001b[49m\u001b[43m=\u001b[49m\u001b[43massert_same_host\u001b[49m\u001b[43m,\u001b[49m\n\u001b[32m    950\u001b[39m \u001b[43m        \u001b[49m\u001b[43mtimeout\u001b[49m\u001b[43m=\u001b[49m\u001b[43mtimeout\u001b[49m\u001b[43m,\u001b[49m\n\u001b[32m    951\u001b[39m \u001b[43m        \u001b[49m\u001b[43mpool_timeout\u001b[49m\u001b[43m=\u001b[49m\u001b[43mpool_timeout\u001b[49m\u001b[43m,\u001b[49m\n\u001b[32m    952\u001b[39m \u001b[43m        \u001b[49m\u001b[43mrelease_conn\u001b[49m\u001b[43m=\u001b[49m\u001b[43mrelease_conn\u001b[49m\u001b[43m,\u001b[49m\n\u001b[32m    953\u001b[39m \u001b[43m        \u001b[49m\u001b[43mchunked\u001b[49m\u001b[43m=\u001b[49m\u001b[43mchunked\u001b[49m\u001b[43m,\u001b[49m\n\u001b[32m    954\u001b[39m \u001b[43m        \u001b[49m\u001b[43mbody_pos\u001b[49m\u001b[43m=\u001b[49m\u001b[43mbody_pos\u001b[49m\u001b[43m,\u001b[49m\n\u001b[32m    955\u001b[39m \u001b[43m        \u001b[49m\u001b[43mpreload_content\u001b[49m\u001b[43m=\u001b[49m\u001b[43mpreload_content\u001b[49m\u001b[43m,\u001b[49m\n\u001b[32m    956\u001b[39m \u001b[43m        \u001b[49m\u001b[43mdecode_content\u001b[49m\u001b[43m=\u001b[49m\u001b[43mdecode_content\u001b[49m\u001b[43m,\u001b[49m\n\u001b[32m    957\u001b[39m \u001b[43m        \u001b[49m\u001b[43m*\u001b[49m\u001b[43m*\u001b[49m\u001b[43mresponse_kw\u001b[49m\u001b[43m,\u001b[49m\n\u001b[32m    958\u001b[39m \u001b[43m    \u001b[49m\u001b[43m)\u001b[49m\n\u001b[32m    960\u001b[39m \u001b[38;5;28;01mreturn\u001b[39;00m response\n",
      "\u001b[36mFile \u001b[39m\u001b[32mc:\\Users\\freak\\miniforge3\\envs\\qsar\\Lib\\site-packages\\urllib3\\connectionpool.py:942\u001b[39m, in \u001b[36mHTTPConnectionPool.urlopen\u001b[39m\u001b[34m(self, method, url, body, headers, retries, redirect, assert_same_host, timeout, pool_timeout, release_conn, chunked, body_pos, preload_content, decode_content, **response_kw)\u001b[39m\n\u001b[32m    940\u001b[39m     retries.sleep(response)\n\u001b[32m    941\u001b[39m     log.debug(\u001b[33m\"\u001b[39m\u001b[33mRetry: \u001b[39m\u001b[38;5;132;01m%s\u001b[39;00m\u001b[33m\"\u001b[39m, url)\n\u001b[32m--> \u001b[39m\u001b[32m942\u001b[39m     \u001b[38;5;28;01mreturn\u001b[39;00m \u001b[38;5;28;43mself\u001b[39;49m\u001b[43m.\u001b[49m\u001b[43murlopen\u001b[49m\u001b[43m(\u001b[49m\n\u001b[32m    943\u001b[39m \u001b[43m        \u001b[49m\u001b[43mmethod\u001b[49m\u001b[43m,\u001b[49m\n\u001b[32m    944\u001b[39m \u001b[43m        \u001b[49m\u001b[43murl\u001b[49m\u001b[43m,\u001b[49m\n\u001b[32m    945\u001b[39m \u001b[43m        \u001b[49m\u001b[43mbody\u001b[49m\u001b[43m,\u001b[49m\n\u001b[32m    946\u001b[39m \u001b[43m        \u001b[49m\u001b[43mheaders\u001b[49m\u001b[43m,\u001b[49m\n\u001b[32m    947\u001b[39m \u001b[43m        \u001b[49m\u001b[43mretries\u001b[49m\u001b[43m=\u001b[49m\u001b[43mretries\u001b[49m\u001b[43m,\u001b[49m\n\u001b[32m    948\u001b[39m \u001b[43m        \u001b[49m\u001b[43mredirect\u001b[49m\u001b[43m=\u001b[49m\u001b[43mredirect\u001b[49m\u001b[43m,\u001b[49m\n\u001b[32m    949\u001b[39m \u001b[43m        \u001b[49m\u001b[43massert_same_host\u001b[49m\u001b[43m=\u001b[49m\u001b[43massert_same_host\u001b[49m\u001b[43m,\u001b[49m\n\u001b[32m    950\u001b[39m \u001b[43m        \u001b[49m\u001b[43mtimeout\u001b[49m\u001b[43m=\u001b[49m\u001b[43mtimeout\u001b[49m\u001b[43m,\u001b[49m\n\u001b[32m    951\u001b[39m \u001b[43m        \u001b[49m\u001b[43mpool_timeout\u001b[49m\u001b[43m=\u001b[49m\u001b[43mpool_timeout\u001b[49m\u001b[43m,\u001b[49m\n\u001b[32m    952\u001b[39m \u001b[43m        \u001b[49m\u001b[43mrelease_conn\u001b[49m\u001b[43m=\u001b[49m\u001b[43mrelease_conn\u001b[49m\u001b[43m,\u001b[49m\n\u001b[32m    953\u001b[39m \u001b[43m        \u001b[49m\u001b[43mchunked\u001b[49m\u001b[43m=\u001b[49m\u001b[43mchunked\u001b[49m\u001b[43m,\u001b[49m\n\u001b[32m    954\u001b[39m \u001b[43m        \u001b[49m\u001b[43mbody_pos\u001b[49m\u001b[43m=\u001b[49m\u001b[43mbody_pos\u001b[49m\u001b[43m,\u001b[49m\n\u001b[32m    955\u001b[39m \u001b[43m        \u001b[49m\u001b[43mpreload_content\u001b[49m\u001b[43m=\u001b[49m\u001b[43mpreload_content\u001b[49m\u001b[43m,\u001b[49m\n\u001b[32m    956\u001b[39m \u001b[43m        \u001b[49m\u001b[43mdecode_content\u001b[49m\u001b[43m=\u001b[49m\u001b[43mdecode_content\u001b[49m\u001b[43m,\u001b[49m\n\u001b[32m    957\u001b[39m \u001b[43m        \u001b[49m\u001b[43m*\u001b[49m\u001b[43m*\u001b[49m\u001b[43mresponse_kw\u001b[49m\u001b[43m,\u001b[49m\n\u001b[32m    958\u001b[39m \u001b[43m    \u001b[49m\u001b[43m)\u001b[49m\n\u001b[32m    960\u001b[39m \u001b[38;5;28;01mreturn\u001b[39;00m response\n",
      "\u001b[36mFile \u001b[39m\u001b[32mc:\\Users\\freak\\miniforge3\\envs\\qsar\\Lib\\site-packages\\urllib3\\connectionpool.py:940\u001b[39m, in \u001b[36mHTTPConnectionPool.urlopen\u001b[39m\u001b[34m(self, method, url, body, headers, retries, redirect, assert_same_host, timeout, pool_timeout, release_conn, chunked, body_pos, preload_content, decode_content, **response_kw)\u001b[39m\n\u001b[32m    937\u001b[39m     \u001b[38;5;28;01mreturn\u001b[39;00m response\n\u001b[32m    939\u001b[39m response.drain_conn()\n\u001b[32m--> \u001b[39m\u001b[32m940\u001b[39m \u001b[43mretries\u001b[49m\u001b[43m.\u001b[49m\u001b[43msleep\u001b[49m\u001b[43m(\u001b[49m\u001b[43mresponse\u001b[49m\u001b[43m)\u001b[49m\n\u001b[32m    941\u001b[39m log.debug(\u001b[33m\"\u001b[39m\u001b[33mRetry: \u001b[39m\u001b[38;5;132;01m%s\u001b[39;00m\u001b[33m\"\u001b[39m, url)\n\u001b[32m    942\u001b[39m \u001b[38;5;28;01mreturn\u001b[39;00m \u001b[38;5;28mself\u001b[39m.urlopen(\n\u001b[32m    943\u001b[39m     method,\n\u001b[32m    944\u001b[39m     url,\n\u001b[32m   (...)\u001b[39m\u001b[32m    957\u001b[39m     **response_kw,\n\u001b[32m    958\u001b[39m )\n",
      "\u001b[36mFile \u001b[39m\u001b[32mc:\\Users\\freak\\miniforge3\\envs\\qsar\\Lib\\site-packages\\urllib3\\util\\retry.py:363\u001b[39m, in \u001b[36mRetry.sleep\u001b[39m\u001b[34m(self, response)\u001b[39m\n\u001b[32m    360\u001b[39m     \u001b[38;5;28;01mif\u001b[39;00m slept:\n\u001b[32m    361\u001b[39m         \u001b[38;5;28;01mreturn\u001b[39;00m\n\u001b[32m--> \u001b[39m\u001b[32m363\u001b[39m \u001b[38;5;28;43mself\u001b[39;49m\u001b[43m.\u001b[49m\u001b[43m_sleep_backoff\u001b[49m\u001b[43m(\u001b[49m\u001b[43m)\u001b[49m\n",
      "\u001b[36mFile \u001b[39m\u001b[32mc:\\Users\\freak\\miniforge3\\envs\\qsar\\Lib\\site-packages\\urllib3\\util\\retry.py:347\u001b[39m, in \u001b[36mRetry._sleep_backoff\u001b[39m\u001b[34m(self)\u001b[39m\n\u001b[32m    345\u001b[39m \u001b[38;5;28;01mif\u001b[39;00m backoff <= \u001b[32m0\u001b[39m:\n\u001b[32m    346\u001b[39m     \u001b[38;5;28;01mreturn\u001b[39;00m\n\u001b[32m--> \u001b[39m\u001b[32m347\u001b[39m \u001b[43mtime\u001b[49m\u001b[43m.\u001b[49m\u001b[43msleep\u001b[49m\u001b[43m(\u001b[49m\u001b[43mbackoff\u001b[49m\u001b[43m)\u001b[49m\n",
      "\u001b[31mKeyboardInterrupt\u001b[39m: "
     ]
    }
   ],
   "source": [
    "from IPython.display import SVG\n",
    "\n",
    "image = new_client.image\n",
    "image.set_format('svg')\n",
    "SVG(image.get('CHEMBL240'))"
   ]
  },
  {
   "cell_type": "code",
   "execution_count": 17,
   "id": "48a3a2c6",
   "metadata": {},
   "outputs": [
    {
     "name": "stdout",
     "output_type": "stream",
     "text": [
      "Empty DataFrame\n",
      "Columns: []\n",
      "Index: []\n"
     ]
    },
    {
     "data": {
      "text/html": [
       "<div>\n",
       "<style scoped>\n",
       "    .dataframe tbody tr th:only-of-type {\n",
       "        vertical-align: middle;\n",
       "    }\n",
       "\n",
       "    .dataframe tbody tr th {\n",
       "        vertical-align: top;\n",
       "    }\n",
       "\n",
       "    .dataframe thead th {\n",
       "        text-align: right;\n",
       "    }\n",
       "</style>\n",
       "<table border=\"1\" class=\"dataframe\">\n",
       "  <thead>\n",
       "    <tr style=\"text-align: right;\">\n",
       "      <th></th>\n",
       "    </tr>\n",
       "  </thead>\n",
       "  <tbody>\n",
       "  </tbody>\n",
       "</table>\n",
       "</div>"
      ],
      "text/plain": [
       "Empty DataFrame\n",
       "Columns: []\n",
       "Index: []"
      ]
     },
     "execution_count": 17,
     "metadata": {},
     "output_type": "execute_result"
    }
   ],
   "source": [
    "from chembl_webresource_client.new_client import new_client\n",
    "import pandas as pd\n",
    "\n",
    "# initialize APIs\n",
    "activity = new_client.activity\n",
    "target = new_client.target\n",
    "molecule = new_client.molecule\n",
    "\n",
    "# Optionally, inspect the target entry\n",
    "t = target.filter(target_chembl_id=\"CHEMBL477889\").only(\"target_chembl_id\", \"pref_name\", \"target_type\")\n",
    "print(pd.DataFrame.from_records(t))\n",
    "\n",
    "# Fetch bioactivity data for that target\n",
    "# We want IC50 data, ideally for human assays, exact measurements.\n",
    "bio = activity.filter(\n",
    "    target_chembl_id=\"CHEMBL477888\",\n",
    "    standard_type=\"IC50\",\n",
    "    standard_value__isnull=False\n",
    ")\n",
    "\n",
    "# Convert to DataFrame\n",
    "df = pd.DataFrame.from_records(bio)\n",
    "\n",
    "# Optionally filter further (human, relation = “=”, assay_type = binding, etc.)\n",
    "# df2 = df[\n",
    "#     # (df[\"target_organism\"] == \"Homo sapiens\") &\n",
    "#     # (df[\"relation\"] == \"=\") &\n",
    "#     # (df[\"assay_type\"] == \"B\")\n",
    "# # ]\n",
    "\n",
    "# # You now have a table of compounds + IC50 values, SMILES etc.\n",
    "# print(df2.head())\n",
    "df"
   ]
  },
  {
   "cell_type": "code",
   "execution_count": 18,
   "id": "0ea1ae77",
   "metadata": {},
   "outputs": [
    {
     "data": {
      "text/plain": [
       "[{'molecule_chembl_id': 'CHEMBL2296002', 'pref_name': None, 'similarity': '100'}, {'molecule_chembl_id': 'CHEMBL1697753', 'pref_name': 'ASPIRIN DL-LYSINE', 'similarity': '100'}, {'molecule_chembl_id': 'CHEMBL3833404', 'pref_name': 'CARBASPIRIN', 'similarity': '88.8888895511627197265625'}, {'molecule_chembl_id': 'CHEMBL3833325', 'pref_name': 'CARBASPIRIN CALCIUM', 'similarity': '88.8888895511627197265625'}, '...(remaining elements truncated)...']"
      ]
     },
     "execution_count": 18,
     "metadata": {},
     "output_type": "execute_result"
    }
   ],
   "source": [
    "similarity = new_client.similarity\n",
    "res = similarity.filter(chembl_id='CHEMBL25', similarity=70).only(['molecule_chembl_id', 'pref_name', 'similarity'])\n",
    "res"
   ]
  },
  {
   "cell_type": "code",
   "execution_count": 21,
   "id": "66f140d7",
   "metadata": {},
   "outputs": [
    {
     "ename": "HttpNotFound",
     "evalue": "Error for url https://www.ebi.ac.uk/chembl/api/data/similarity.json, server response: {\"error_message\": \"Couldn't find an instance of 'MoleculeDictionary' which matched 'chembl_id=['CHEMBL240']'.\", \"traceback\": \"Traceback (most recent call last):\\n\\n  File \\\"/chembl_ws_py3/src/chembl_webservices/core/resource.py\\\", line 274, in wrapper\\n    response = callback(request, *args, **kwargs)\\n               ^^^^^^^^^^^^^^^^^^^^^^^^^^^^^^^^^^\\n\\n  File \\\"/usr/local/lib/python3.11/site-packages/tastypie/resources.py\\\", line 467, in dispatch_list\\n    return self.dispatch('list', request, **kwargs)\\n           ^^^^^^^^^^^^^^^^^^^^^^^^^^^^^^^^^^^^^^^^\\n\\n  File \\\"/chembl_ws_py3/src/chembl_webservices/core/resource.py\\\", line 904, in dispatch\\n    response = method(request, **kwargs)\\n               ^^^^^^^^^^^^^^^^^^^^^^^^^\\n\\n  File \\\"/chembl_ws_py3/src/chembl_webservices/core/resource.py\\\", line 839, in get_list\\n    return self.response(self.get_list_impl)(request, **kwargs)\\n           ^^^^^^^^^^^^^^^^^^^^^^^^^^^^^^^^^^^^^^^^^^^^^^^^^^^^\\n\\n  File \\\"/chembl_ws_py3/src/chembl_webservices/core/resource.py\\\", line 744, in get_something\\n    ret = f(request, basic_bundle, **kwargs)\\n          ^^^^^^^^^^^^^^^^^^^^^^^^^^^^^^^^^^\\n\\n  File \\\"/chembl_ws_py3/src/chembl_webservices/resources/similarity.py\\\", line 160, in get_list_impl\\n    return self.serialise_list(self.list_cache_handler(self.cached_obj_get_list), for_list=True,\\n           ^^^^^^^^^^^^^^^^^^^^^^^^^^^^^^^^^^^^^^^^^^^^^^^^^^^^^^^^^^^^^^^^^^^^^^^^^^^^^^^^^^^^^\\n\\n  File \\\"/chembl_ws_py3/src/chembl_webservices/core/resource.py\\\", line 813, in handler\\n    to_be_serialized, in_cache = f(bundle=base_bundle,\\n                                 ^^^^^^^^^^^^^^^^^^^^^\\n\\n  File \\\"/chembl_ws_py3/src/chembl_webservices/resources/similarity.py\\\", line 190, in handle\\n    objects, in_cache = f(bundle=bundle, **self.remove_api_resource_names(kwargs))\\n                        ^^^^^^^^^^^^^^^^^^^^^^^^^^^^^^^^^^^^^^^^^^^^^^^^^^^^^^^^^^\\n\\n  File \\\"/chembl_ws_py3/src/chembl_webservices/resources/similarity.py\\\", line 155, in cached_obj_get_list\\n    return self.detail_cache_handler(self.obj_get_list)(bundle, 'list', **kwargs)\\n           ^^^^^^^^^^^^^^^^^^^^^^^^^^^^^^^^^^^^^^^^^^^^^^^^^^^^^^^^^^^^^^^^^^^^^^\\n\\n  File \\\"/chembl_ws_py3/src/chembl_webservices/core/resource.py\\\", line 716, in handle\\n    cached_bundle = f(bundle=bundle, **kwargs)\\n                    ^^^^^^^^^^^^^^^^^^^^^^^^^^\\n\\n  File \\\"/chembl_ws_py3/src/chembl_webservices/resources/similarity.py\\\", line 149, in obj_get_list\\n    raise e\\n\\n  File \\\"/chembl_ws_py3/src/chembl_webservices/resources/similarity.py\\\", line 89, in obj_get_list\\n    raise ObjectDoesNotExist(\\\"Couldn't find an instance of '%s' which matched '%s'.\\\" %\\n\\ndjango.core.exceptions.ObjectDoesNotExist: Couldn't find an instance of 'MoleculeDictionary' which matched 'chembl_id=['CHEMBL240']'.\\n\"}",
     "output_type": "error",
     "traceback": [
      "\u001b[31m---------------------------------------------------------------------------\u001b[39m",
      "\u001b[31mHttpNotFound\u001b[39m                              Traceback (most recent call last)",
      "\u001b[36mFile \u001b[39m\u001b[32mc:\\Users\\freak\\miniforge3\\envs\\qsar\\Lib\\site-packages\\IPython\\core\\formatters.py:770\u001b[39m, in \u001b[36mPlainTextFormatter.__call__\u001b[39m\u001b[34m(self, obj)\u001b[39m\n\u001b[32m    763\u001b[39m stream = StringIO()\n\u001b[32m    764\u001b[39m printer = pretty.RepresentationPrinter(stream, \u001b[38;5;28mself\u001b[39m.verbose,\n\u001b[32m    765\u001b[39m     \u001b[38;5;28mself\u001b[39m.max_width, \u001b[38;5;28mself\u001b[39m.newline,\n\u001b[32m    766\u001b[39m     max_seq_length=\u001b[38;5;28mself\u001b[39m.max_seq_length,\n\u001b[32m    767\u001b[39m     singleton_pprinters=\u001b[38;5;28mself\u001b[39m.singleton_printers,\n\u001b[32m    768\u001b[39m     type_pprinters=\u001b[38;5;28mself\u001b[39m.type_printers,\n\u001b[32m    769\u001b[39m     deferred_pprinters=\u001b[38;5;28mself\u001b[39m.deferred_printers)\n\u001b[32m--> \u001b[39m\u001b[32m770\u001b[39m \u001b[43mprinter\u001b[49m\u001b[43m.\u001b[49m\u001b[43mpretty\u001b[49m\u001b[43m(\u001b[49m\u001b[43mobj\u001b[49m\u001b[43m)\u001b[49m\n\u001b[32m    771\u001b[39m printer.flush()\n\u001b[32m    772\u001b[39m \u001b[38;5;28;01mreturn\u001b[39;00m stream.getvalue()\n",
      "\u001b[36mFile \u001b[39m\u001b[32mc:\\Users\\freak\\miniforge3\\envs\\qsar\\Lib\\site-packages\\IPython\\lib\\pretty.py:411\u001b[39m, in \u001b[36mRepresentationPrinter.pretty\u001b[39m\u001b[34m(self, obj)\u001b[39m\n\u001b[32m    400\u001b[39m                         \u001b[38;5;28;01mreturn\u001b[39;00m meth(obj, \u001b[38;5;28mself\u001b[39m, cycle)\n\u001b[32m    401\u001b[39m                 \u001b[38;5;28;01mif\u001b[39;00m (\n\u001b[32m    402\u001b[39m                     \u001b[38;5;28mcls\u001b[39m \u001b[38;5;129;01mis\u001b[39;00m \u001b[38;5;129;01mnot\u001b[39;00m \u001b[38;5;28mobject\u001b[39m\n\u001b[32m    403\u001b[39m                     \u001b[38;5;66;03m# check if cls defines __repr__\u001b[39;00m\n\u001b[32m   (...)\u001b[39m\u001b[32m    409\u001b[39m                     \u001b[38;5;129;01mand\u001b[39;00m \u001b[38;5;28mcallable\u001b[39m(_safe_getattr(\u001b[38;5;28mcls\u001b[39m, \u001b[33m\"\u001b[39m\u001b[33m__repr__\u001b[39m\u001b[33m\"\u001b[39m, \u001b[38;5;28;01mNone\u001b[39;00m))\n\u001b[32m    410\u001b[39m                 ):\n\u001b[32m--> \u001b[39m\u001b[32m411\u001b[39m                     \u001b[38;5;28;01mreturn\u001b[39;00m \u001b[43m_repr_pprint\u001b[49m\u001b[43m(\u001b[49m\u001b[43mobj\u001b[49m\u001b[43m,\u001b[49m\u001b[43m \u001b[49m\u001b[38;5;28;43mself\u001b[39;49m\u001b[43m,\u001b[49m\u001b[43m \u001b[49m\u001b[43mcycle\u001b[49m\u001b[43m)\u001b[49m\n\u001b[32m    413\u001b[39m     \u001b[38;5;28;01mreturn\u001b[39;00m _default_pprint(obj, \u001b[38;5;28mself\u001b[39m, cycle)\n\u001b[32m    414\u001b[39m \u001b[38;5;28;01mfinally\u001b[39;00m:\n",
      "\u001b[36mFile \u001b[39m\u001b[32mc:\\Users\\freak\\miniforge3\\envs\\qsar\\Lib\\site-packages\\IPython\\lib\\pretty.py:786\u001b[39m, in \u001b[36m_repr_pprint\u001b[39m\u001b[34m(obj, p, cycle)\u001b[39m\n\u001b[32m    784\u001b[39m \u001b[38;5;250m\u001b[39m\u001b[33;03m\"\"\"A pprint that just redirects to the normal repr function.\"\"\"\u001b[39;00m\n\u001b[32m    785\u001b[39m \u001b[38;5;66;03m# Find newlines and replace them with p.break_()\u001b[39;00m\n\u001b[32m--> \u001b[39m\u001b[32m786\u001b[39m output = \u001b[38;5;28;43mrepr\u001b[39;49m\u001b[43m(\u001b[49m\u001b[43mobj\u001b[49m\u001b[43m)\u001b[49m\n\u001b[32m    787\u001b[39m lines = output.splitlines()\n\u001b[32m    788\u001b[39m \u001b[38;5;28;01mwith\u001b[39;00m p.group():\n",
      "\u001b[36mFile \u001b[39m\u001b[32mc:\\Users\\freak\\miniforge3\\envs\\qsar\\Lib\\site-packages\\chembl_webresource_client\\query_set.py:78\u001b[39m, in \u001b[36mQuerySet.__repr__\u001b[39m\u001b[34m(self)\u001b[39m\n\u001b[32m     76\u001b[39m     \u001b[38;5;28;01mreturn\u001b[39;00m \u001b[33m'\u001b[39m\u001b[38;5;132;01m{0}\u001b[39;00m\u001b[33m resource\u001b[39m\u001b[33m'\u001b[39m.format(\u001b[38;5;28mself\u001b[39m.model.name)\n\u001b[32m     77\u001b[39m clone = \u001b[38;5;28mself\u001b[39m._clone()\n\u001b[32m---> \u001b[39m\u001b[32m78\u001b[39m data = \u001b[38;5;28;43mlist\u001b[39;49m\u001b[43m(\u001b[49m\u001b[43mclone\u001b[49m\u001b[43m[\u001b[49m\u001b[43m:\u001b[49m\u001b[43mSettings\u001b[49m\u001b[43m.\u001b[49m\u001b[43mInstance\u001b[49m\u001b[43m(\u001b[49m\u001b[43m)\u001b[49m\u001b[43m.\u001b[49m\u001b[43mREPR_OUTPUT_SIZE\u001b[49m\u001b[43m]\u001b[49m\u001b[43m)\u001b[49m\n\u001b[32m     79\u001b[39m length = \u001b[38;5;28mlen\u001b[39m(\u001b[38;5;28mself\u001b[39m)\n\u001b[32m     80\u001b[39m \u001b[38;5;28;01mif\u001b[39;00m length > Settings.Instance().REPR_OUTPUT_SIZE:\n",
      "\u001b[36mFile \u001b[39m\u001b[32mc:\\Users\\freak\\miniforge3\\envs\\qsar\\Lib\\site-packages\\chembl_webresource_client\\query_set.py:127\u001b[39m, in \u001b[36mQuerySet.__next__\u001b[39m\u001b[34m(self)\u001b[39m\n\u001b[32m    126\u001b[39m \u001b[38;5;28;01mdef\u001b[39;00m\u001b[38;5;250m \u001b[39m\u001b[34m__next__\u001b[39m(\u001b[38;5;28mself\u001b[39m):\n\u001b[32m--> \u001b[39m\u001b[32m127\u001b[39m     \u001b[38;5;28;01mreturn\u001b[39;00m \u001b[38;5;28;43mself\u001b[39;49m\u001b[43m.\u001b[49m\u001b[43mnext\u001b[49m\u001b[43m(\u001b[49m\u001b[43m)\u001b[49m\n",
      "\u001b[36mFile \u001b[39m\u001b[32mc:\\Users\\freak\\miniforge3\\envs\\qsar\\Lib\\site-packages\\chembl_webresource_client\\query_set.py:113\u001b[39m, in \u001b[36mQuerySet.next\u001b[39m\u001b[34m(self)\u001b[39m\n\u001b[32m    111\u001b[39m     \u001b[38;5;28;01mreturn\u001b[39;00m \u001b[38;5;28;01mNone\u001b[39;00m\n\u001b[32m    112\u001b[39m \u001b[38;5;28;01mif\u001b[39;00m \u001b[38;5;129;01mnot\u001b[39;00m \u001b[38;5;28mself\u001b[39m.chunk \u001b[38;5;129;01mand\u001b[39;00m \u001b[38;5;129;01mnot\u001b[39;00m \u001b[38;5;28mself\u001b[39m.current_index:\n\u001b[32m--> \u001b[39m\u001b[32m113\u001b[39m     \u001b[38;5;28mself\u001b[39m.chunk = \u001b[38;5;28;43mself\u001b[39;49m\u001b[43m.\u001b[49m\u001b[43mquery\u001b[49m\u001b[43m.\u001b[49m\u001b[43mget_page\u001b[49m\u001b[43m(\u001b[49m\u001b[43m)\u001b[49m\n\u001b[32m    114\u001b[39m \u001b[38;5;28;01mif\u001b[39;00m \u001b[38;5;129;01mnot\u001b[39;00m \u001b[38;5;28mself\u001b[39m.chunk \u001b[38;5;129;01mor\u001b[39;00m \u001b[38;5;28mself\u001b[39m.current_index >= \u001b[38;5;28mlen\u001b[39m(\u001b[38;5;28mself\u001b[39m.chunk):\n\u001b[32m    115\u001b[39m     \u001b[38;5;28mself\u001b[39m.chunk = \u001b[38;5;28mself\u001b[39m.query.next_page()\n",
      "\u001b[36mFile \u001b[39m\u001b[32mc:\\Users\\freak\\miniforge3\\envs\\qsar\\Lib\\site-packages\\chembl_webresource_client\\url_query.py:394\u001b[39m, in \u001b[36mUrlQuery.get_page\u001b[39m\u001b[34m(self)\u001b[39m\n\u001b[32m    392\u001b[39m \u001b[38;5;28mself\u001b[39m.logger.info(\u001b[33m'\u001b[39m\u001b[33mFrom cache: \u001b[39m\u001b[38;5;132;01m{0}\u001b[39;00m\u001b[33m'\u001b[39m.format(res.from_cache \u001b[38;5;28;01mif\u001b[39;00m \u001b[38;5;28mhasattr\u001b[39m(res, \u001b[33m'\u001b[39m\u001b[33mfrom_cache\u001b[39m\u001b[33m'\u001b[39m) \u001b[38;5;28;01melse\u001b[39;00m \u001b[38;5;28;01mFalse\u001b[39;00m))\n\u001b[32m    393\u001b[39m \u001b[38;5;28;01mif\u001b[39;00m \u001b[38;5;129;01mnot\u001b[39;00m res.ok:\n\u001b[32m--> \u001b[39m\u001b[32m394\u001b[39m     \u001b[43mhandle_http_error\u001b[49m\u001b[43m(\u001b[49m\u001b[43mres\u001b[49m\u001b[43m)\u001b[49m\n\u001b[32m    395\u001b[39m \u001b[38;5;28;01mif\u001b[39;00m \u001b[38;5;28mself\u001b[39m.frmt == \u001b[33m'\u001b[39m\u001b[33mjson\u001b[39m\u001b[33m'\u001b[39m:\n\u001b[32m    396\u001b[39m     json_data = res.json()\n",
      "\u001b[36mFile \u001b[39m\u001b[32mc:\\Users\\freak\\miniforge3\\envs\\qsar\\Lib\\site-packages\\chembl_webresource_client\\http_errors.py:113\u001b[39m, in \u001b[36mhandle_http_error\u001b[39m\u001b[34m(request)\u001b[39m\n\u001b[32m    111\u001b[39m exception_class = status_to_exception.get(request.status_code, BaseHttpException)\n\u001b[32m    112\u001b[39m \u001b[38;5;28;01mif\u001b[39;00m request.text:\n\u001b[32m--> \u001b[39m\u001b[32m113\u001b[39m     \u001b[38;5;28;01mraise\u001b[39;00m exception_class(request.url, request.text)\n\u001b[32m    114\u001b[39m \u001b[38;5;28;01mraise\u001b[39;00m exception_class(request.url, request.content)\n",
      "\u001b[31mHttpNotFound\u001b[39m: Error for url https://www.ebi.ac.uk/chembl/api/data/similarity.json, server response: {\"error_message\": \"Couldn't find an instance of 'MoleculeDictionary' which matched 'chembl_id=['CHEMBL240']'.\", \"traceback\": \"Traceback (most recent call last):\\n\\n  File \\\"/chembl_ws_py3/src/chembl_webservices/core/resource.py\\\", line 274, in wrapper\\n    response = callback(request, *args, **kwargs)\\n               ^^^^^^^^^^^^^^^^^^^^^^^^^^^^^^^^^^\\n\\n  File \\\"/usr/local/lib/python3.11/site-packages/tastypie/resources.py\\\", line 467, in dispatch_list\\n    return self.dispatch('list', request, **kwargs)\\n           ^^^^^^^^^^^^^^^^^^^^^^^^^^^^^^^^^^^^^^^^\\n\\n  File \\\"/chembl_ws_py3/src/chembl_webservices/core/resource.py\\\", line 904, in dispatch\\n    response = method(request, **kwargs)\\n               ^^^^^^^^^^^^^^^^^^^^^^^^^\\n\\n  File \\\"/chembl_ws_py3/src/chembl_webservices/core/resource.py\\\", line 839, in get_list\\n    return self.response(self.get_list_impl)(request, **kwargs)\\n           ^^^^^^^^^^^^^^^^^^^^^^^^^^^^^^^^^^^^^^^^^^^^^^^^^^^^\\n\\n  File \\\"/chembl_ws_py3/src/chembl_webservices/core/resource.py\\\", line 744, in get_something\\n    ret = f(request, basic_bundle, **kwargs)\\n          ^^^^^^^^^^^^^^^^^^^^^^^^^^^^^^^^^^\\n\\n  File \\\"/chembl_ws_py3/src/chembl_webservices/resources/similarity.py\\\", line 160, in get_list_impl\\n    return self.serialise_list(self.list_cache_handler(self.cached_obj_get_list), for_list=True,\\n           ^^^^^^^^^^^^^^^^^^^^^^^^^^^^^^^^^^^^^^^^^^^^^^^^^^^^^^^^^^^^^^^^^^^^^^^^^^^^^^^^^^^^^\\n\\n  File \\\"/chembl_ws_py3/src/chembl_webservices/core/resource.py\\\", line 813, in handler\\n    to_be_serialized, in_cache = f(bundle=base_bundle,\\n                                 ^^^^^^^^^^^^^^^^^^^^^\\n\\n  File \\\"/chembl_ws_py3/src/chembl_webservices/resources/similarity.py\\\", line 190, in handle\\n    objects, in_cache = f(bundle=bundle, **self.remove_api_resource_names(kwargs))\\n                        ^^^^^^^^^^^^^^^^^^^^^^^^^^^^^^^^^^^^^^^^^^^^^^^^^^^^^^^^^^\\n\\n  File \\\"/chembl_ws_py3/src/chembl_webservices/resources/similarity.py\\\", line 155, in cached_obj_get_list\\n    return self.detail_cache_handler(self.obj_get_list)(bundle, 'list', **kwargs)\\n           ^^^^^^^^^^^^^^^^^^^^^^^^^^^^^^^^^^^^^^^^^^^^^^^^^^^^^^^^^^^^^^^^^^^^^^\\n\\n  File \\\"/chembl_ws_py3/src/chembl_webservices/core/resource.py\\\", line 716, in handle\\n    cached_bundle = f(bundle=bundle, **kwargs)\\n                    ^^^^^^^^^^^^^^^^^^^^^^^^^^\\n\\n  File \\\"/chembl_ws_py3/src/chembl_webservices/resources/similarity.py\\\", line 149, in obj_get_list\\n    raise e\\n\\n  File \\\"/chembl_ws_py3/src/chembl_webservices/resources/similarity.py\\\", line 89, in obj_get_list\\n    raise ObjectDoesNotExist(\\\"Couldn't find an instance of '%s' which matched '%s'.\\\" %\\n\\ndjango.core.exceptions.ObjectDoesNotExist: Couldn't find an instance of 'MoleculeDictionary' which matched 'chembl_id=['CHEMBL240']'.\\n\"}"
     ]
    }
   ],
   "source": [
    "similarity = new_client.similarity\n",
    "res = similarity.filter(chembl_id='CHEMBL240', similarity=70).only(['molecule_chembl_id', 'pref_name', 'similarity'])\n",
    "res"
   ]
  },
  {
   "cell_type": "code",
   "execution_count": null,
   "id": "f758a085",
   "metadata": {},
   "outputs": [
    {
     "name": "stdout",
     "output_type": "stream",
     "text": [
      "Number of rows with non-empty Standard Value: 16642\n",
      "First few indices: [0, 1, 2, 3, 4, 5, 6, 7, 8, 9, 10, 11, 12, 13, 14, 15, 16, 17, 18, 19]\n",
      "All units are 'nM': False\n",
      "Unique units: ['nM' 'ug.mL-1' 'ucm']\n",
      "Value counts:\n",
      " Standard Units\n",
      "nM         16626\n",
      "ug.mL-1       13\n",
      "ucm            3\n",
      "Name: count, dtype: int64\n"
     ]
    }
   ],
   "source": [
    "import pandas as pd\n",
    "\n",
    "dataset = pd.read_csv('chembl_herg_data.csv', header=0, on_bad_lines='skip',sep=';')\n",
    "\n",
    "clean_ds = dataset.loc[:,['Molecule Name',\"Molecular Weight\",\"AlogP\",\"Smiles\",\"Standard Type\",\"Standard Relation\",\"Standard Value\",\"Standard Units\",\"pChEMBL Value\",\"Ligand Efficiency BEI\",\"Ligand Efficiency LE\",\"Ligand Efficiency LLE\",\"Ligand Efficiency SEI\"]]\n",
    "\n",
    "smiles_df = dataset.loc[:, ['Smiles', \"Standard Type\", \"Standard Relation\", \"Standard Value\", \"Standard Units\"]]\n",
    "\n",
    "# Rows where Standard Value is missing (NaN)\n",
    "non_empty_std_value = smiles_df[smiles_df['Standard Value'].notna()]\n",
    "print(f\"Number of rows with non-empty Standard Value: {non_empty_std_value.shape[0]}\")\n",
    "print(\"First few indices:\", non_empty_std_value.index.tolist()[:20])\n",
    "print()\n",
    "\n",
    "# Optionally inspect first few rows\n",
    "# Check if all Standard Units are 'nM'\n",
    "all_nm = non_empty_std_value['Standard Units'].eq('nM').all()\n",
    "print(\"All units are 'nM':\", all_nm)\n",
    "print(\"Unique units:\", non_empty_std_value['Standard Units'].unique())\n",
    "print(\"Value counts:\\n\", non_empty_std_value['Standard Units'].value_counts(dropna=False))\n",
    "# non_empty_std_value\n",
    "\n",
    "# smiles_df.loc[empty_std_value]\n",
    "\n",
    "# print(dataset.head)\n",
    "# dataset\n",
    "# clean_ds\n",
    "# smiles_df"
   ]
  },
  {
   "cell_type": "code",
   "execution_count": 2,
   "id": "186909d9",
   "metadata": {},
   "outputs": [
    {
     "name": "stdout",
     "output_type": "stream",
     "text": [
      "hERG Cardiotoxicity QSAR Model\n",
      "==================================================\n",
      "Training RF model with morgan fingerprints...\n",
      "Generating morgan fingerprints...\n"
     ]
    },
    {
     "ename": "KeyError",
     "evalue": "'canonical_smiles'",
     "output_type": "error",
     "traceback": [
      "\u001b[31m---------------------------------------------------------------------------\u001b[39m",
      "\u001b[31mKeyError\u001b[39m                                  Traceback (most recent call last)",
      "\u001b[36mFile \u001b[39m\u001b[32mc:\\Users\\freak\\miniforge3\\envs\\qsar\\Lib\\site-packages\\pandas\\core\\indexes\\base.py:3812\u001b[39m, in \u001b[36mIndex.get_loc\u001b[39m\u001b[34m(self, key)\u001b[39m\n\u001b[32m   3811\u001b[39m \u001b[38;5;28;01mtry\u001b[39;00m:\n\u001b[32m-> \u001b[39m\u001b[32m3812\u001b[39m     \u001b[38;5;28;01mreturn\u001b[39;00m \u001b[38;5;28;43mself\u001b[39;49m\u001b[43m.\u001b[49m\u001b[43m_engine\u001b[49m\u001b[43m.\u001b[49m\u001b[43mget_loc\u001b[49m\u001b[43m(\u001b[49m\u001b[43mcasted_key\u001b[49m\u001b[43m)\u001b[49m\n\u001b[32m   3813\u001b[39m \u001b[38;5;28;01mexcept\u001b[39;00m \u001b[38;5;167;01mKeyError\u001b[39;00m \u001b[38;5;28;01mas\u001b[39;00m err:\n",
      "\u001b[36mFile \u001b[39m\u001b[32mpandas/_libs/index.pyx:167\u001b[39m, in \u001b[36mpandas._libs.index.IndexEngine.get_loc\u001b[39m\u001b[34m()\u001b[39m\n",
      "\u001b[36mFile \u001b[39m\u001b[32mpandas/_libs/index.pyx:196\u001b[39m, in \u001b[36mpandas._libs.index.IndexEngine.get_loc\u001b[39m\u001b[34m()\u001b[39m\n",
      "\u001b[36mFile \u001b[39m\u001b[32mpandas/_libs/hashtable_class_helper.pxi:7088\u001b[39m, in \u001b[36mpandas._libs.hashtable.PyObjectHashTable.get_item\u001b[39m\u001b[34m()\u001b[39m\n",
      "\u001b[36mFile \u001b[39m\u001b[32mpandas/_libs/hashtable_class_helper.pxi:7096\u001b[39m, in \u001b[36mpandas._libs.hashtable.PyObjectHashTable.get_item\u001b[39m\u001b[34m()\u001b[39m\n",
      "\u001b[31mKeyError\u001b[39m: 'canonical_smiles'",
      "\nThe above exception was the direct cause of the following exception:\n",
      "\u001b[31mKeyError\u001b[39m                                  Traceback (most recent call last)",
      "\u001b[36mCell\u001b[39m\u001b[36m \u001b[39m\u001b[32mIn[2]\u001b[39m\u001b[32m, line 17\u001b[39m\n\u001b[32m     14\u001b[39m df = clean_ds\n\u001b[32m     16\u001b[39m \u001b[38;5;66;03m# Train the model\u001b[39;00m\n\u001b[32m---> \u001b[39m\u001b[32m17\u001b[39m training_results = \u001b[43mmodel\u001b[49m\u001b[43m.\u001b[49m\u001b[43mtrain\u001b[49m\u001b[43m(\u001b[49m\u001b[43mdf\u001b[49m\u001b[43m,\u001b[49m\u001b[43m \u001b[49m\u001b[43mtest_size\u001b[49m\u001b[43m=\u001b[49m\u001b[32;43m0.2\u001b[39;49m\u001b[43m,\u001b[49m\u001b[43m \u001b[49m\u001b[43mcv_folds\u001b[49m\u001b[43m=\u001b[49m\u001b[32;43m5\u001b[39;49m\u001b[43m)\u001b[49m\n\u001b[32m     19\u001b[39m \u001b[38;5;66;03m# Evaluate the model\u001b[39;00m\n\u001b[32m     20\u001b[39m evaluation_results = model.evaluate_model(plot=\u001b[38;5;28;01mTrue\u001b[39;00m)\n",
      "\u001b[36mFile \u001b[39m\u001b[32md:\\Working files\\EP\\Sem9\\PH421\\QSAR Project\\qsar_herg_model.py:317\u001b[39m, in \u001b[36mHERGQSARModel.train\u001b[39m\u001b[34m(self, df, test_size, cv_folds)\u001b[39m\n\u001b[32m    314\u001b[39m \u001b[38;5;28mprint\u001b[39m(\u001b[33mf\u001b[39m\u001b[33m\"\u001b[39m\u001b[33mTraining \u001b[39m\u001b[38;5;132;01m{\u001b[39;00m\u001b[38;5;28mself\u001b[39m.model_type.upper()\u001b[38;5;132;01m}\u001b[39;00m\u001b[33m model with \u001b[39m\u001b[38;5;132;01m{\u001b[39;00m\u001b[38;5;28mself\u001b[39m.fingerprint_type\u001b[38;5;132;01m}\u001b[39;00m\u001b[33m fingerprints...\u001b[39m\u001b[33m\"\u001b[39m)\n\u001b[32m    316\u001b[39m \u001b[38;5;66;03m# Prepare features\u001b[39;00m\n\u001b[32m--> \u001b[39m\u001b[32m317\u001b[39m X, valid_indices = \u001b[38;5;28;43mself\u001b[39;49m\u001b[43m.\u001b[49m\u001b[43mprepare_features\u001b[49m\u001b[43m(\u001b[49m\u001b[43mdf\u001b[49m\u001b[43m)\u001b[49m\n\u001b[32m    318\u001b[39m y = df.iloc[valid_indices][\u001b[33m'\u001b[39m\u001b[33mactive\u001b[39m\u001b[33m'\u001b[39m].values\n\u001b[32m    320\u001b[39m \u001b[38;5;66;03m# Split data\u001b[39;00m\n",
      "\u001b[36mFile \u001b[39m\u001b[32md:\\Working files\\EP\\Sem9\\PH421\\QSAR Project\\qsar_herg_model.py:241\u001b[39m, in \u001b[36mHERGQSARModel.prepare_features\u001b[39m\u001b[34m(self, df)\u001b[39m\n\u001b[32m    238\u001b[39m fingerprints = []\n\u001b[32m    239\u001b[39m valid_indices = []\n\u001b[32m--> \u001b[39m\u001b[32m241\u001b[39m \u001b[38;5;28;01mfor\u001b[39;00m idx, smiles \u001b[38;5;129;01min\u001b[39;00m tqdm(\u001b[38;5;28menumerate\u001b[39m(\u001b[43mdf\u001b[49m\u001b[43m[\u001b[49m\u001b[33;43m'\u001b[39;49m\u001b[33;43mcanonical_smiles\u001b[39;49m\u001b[33;43m'\u001b[39;49m\u001b[43m]\u001b[49m), \n\u001b[32m    242\u001b[39m                        total=\u001b[38;5;28mlen\u001b[39m(df), desc=\u001b[33m\"\u001b[39m\u001b[33mProcessing molecules\u001b[39m\u001b[33m\"\u001b[39m):\n\u001b[32m    243\u001b[39m     fp = \u001b[38;5;28mself\u001b[39m.smiles_to_fingerprint(smiles, \u001b[38;5;28mself\u001b[39m.fingerprint_type)\n\u001b[32m    244\u001b[39m     \u001b[38;5;28;01mif\u001b[39;00m fp \u001b[38;5;129;01mis\u001b[39;00m \u001b[38;5;129;01mnot\u001b[39;00m \u001b[38;5;28;01mNone\u001b[39;00m:\n",
      "\u001b[36mFile \u001b[39m\u001b[32mc:\\Users\\freak\\miniforge3\\envs\\qsar\\Lib\\site-packages\\pandas\\core\\frame.py:4107\u001b[39m, in \u001b[36mDataFrame.__getitem__\u001b[39m\u001b[34m(self, key)\u001b[39m\n\u001b[32m   4105\u001b[39m \u001b[38;5;28;01mif\u001b[39;00m \u001b[38;5;28mself\u001b[39m.columns.nlevels > \u001b[32m1\u001b[39m:\n\u001b[32m   4106\u001b[39m     \u001b[38;5;28;01mreturn\u001b[39;00m \u001b[38;5;28mself\u001b[39m._getitem_multilevel(key)\n\u001b[32m-> \u001b[39m\u001b[32m4107\u001b[39m indexer = \u001b[38;5;28;43mself\u001b[39;49m\u001b[43m.\u001b[49m\u001b[43mcolumns\u001b[49m\u001b[43m.\u001b[49m\u001b[43mget_loc\u001b[49m\u001b[43m(\u001b[49m\u001b[43mkey\u001b[49m\u001b[43m)\u001b[49m\n\u001b[32m   4108\u001b[39m \u001b[38;5;28;01mif\u001b[39;00m is_integer(indexer):\n\u001b[32m   4109\u001b[39m     indexer = [indexer]\n",
      "\u001b[36mFile \u001b[39m\u001b[32mc:\\Users\\freak\\miniforge3\\envs\\qsar\\Lib\\site-packages\\pandas\\core\\indexes\\base.py:3819\u001b[39m, in \u001b[36mIndex.get_loc\u001b[39m\u001b[34m(self, key)\u001b[39m\n\u001b[32m   3814\u001b[39m     \u001b[38;5;28;01mif\u001b[39;00m \u001b[38;5;28misinstance\u001b[39m(casted_key, \u001b[38;5;28mslice\u001b[39m) \u001b[38;5;129;01mor\u001b[39;00m (\n\u001b[32m   3815\u001b[39m         \u001b[38;5;28misinstance\u001b[39m(casted_key, abc.Iterable)\n\u001b[32m   3816\u001b[39m         \u001b[38;5;129;01mand\u001b[39;00m \u001b[38;5;28many\u001b[39m(\u001b[38;5;28misinstance\u001b[39m(x, \u001b[38;5;28mslice\u001b[39m) \u001b[38;5;28;01mfor\u001b[39;00m x \u001b[38;5;129;01min\u001b[39;00m casted_key)\n\u001b[32m   3817\u001b[39m     ):\n\u001b[32m   3818\u001b[39m         \u001b[38;5;28;01mraise\u001b[39;00m InvalidIndexError(key)\n\u001b[32m-> \u001b[39m\u001b[32m3819\u001b[39m     \u001b[38;5;28;01mraise\u001b[39;00m \u001b[38;5;167;01mKeyError\u001b[39;00m(key) \u001b[38;5;28;01mfrom\u001b[39;00m\u001b[38;5;250m \u001b[39m\u001b[34;01merr\u001b[39;00m\n\u001b[32m   3820\u001b[39m \u001b[38;5;28;01mexcept\u001b[39;00m \u001b[38;5;167;01mTypeError\u001b[39;00m:\n\u001b[32m   3821\u001b[39m     \u001b[38;5;66;03m# If we have a listlike key, _check_indexing_error will raise\u001b[39;00m\n\u001b[32m   3822\u001b[39m     \u001b[38;5;66;03m#  InvalidIndexError. Otherwise we fall through and re-raise\u001b[39;00m\n\u001b[32m   3823\u001b[39m     \u001b[38;5;66;03m#  the TypeError.\u001b[39;00m\n\u001b[32m   3824\u001b[39m     \u001b[38;5;28mself\u001b[39m._check_indexing_error(key)\n",
      "\u001b[31mKeyError\u001b[39m: 'canonical_smiles'"
     ]
    }
   ],
   "source": [
    "from qsar_herg_model import HERGQSARModel\n",
    "\n",
    "model = HERGQSARModel()\n",
    "\n",
    "\n",
    "print(\"hERG Cardiotoxicity QSAR Model\")\n",
    "print(\"=\" * 50)\n",
    "\n",
    "# Create model instance\n",
    "model = HERGQSARModel(fingerprint_type='morgan', model_type='rf')\n",
    "\n",
    "# Create sample dataset\n",
    "# df = model.create_sample_dataset(n_samples=500)\n",
    "df = clean_ds\n",
    "\n",
    "# Train the model\n",
    "training_results = model.train(df, test_size=0.2, cv_folds=5)\n",
    "\n",
    "# Evaluate the model\n",
    "evaluation_results = model.evaluate_model(plot=True)\n",
    "\n",
    "# Example predictions\n",
    "test_molecules = [\n",
    "    'CCN(CC)CCCC(C)Nc1ccnc2cc(Cl)ccc12',  # Likely hERG blocker\n",
    "    'CC(=O)Nc1ccc(O)cc1',                  # Likely non-blocker (acetaminophen)\n",
    "    'CN1C=NC2=C1C(=O)N(C)C(=O)N2C',       # Likely non-blocker (caffeine)\n",
    "]\n",
    "\n",
    "print(\"\\nExample Predictions:\")\n",
    "print(\"-\" * 50)\n",
    "predictions = model.predict(test_molecules)\n",
    "\n",
    "for pred in predictions:\n",
    "    print(f\"SMILES: {pred['smiles']}\")\n",
    "    print(f\"Prediction: {pred['prediction']}\")\n",
    "    print(f\"Probability: {pred['probability']:.3f}\")\n",
    "    print(f\"Risk Level: {pred['risk_level']}\")\n",
    "    print(\"-\" * 30)\n",
    "\n",
    "# Save the model\n",
    "model.save_model('herg_qsar_model.pkl')\n",
    "\n",
    "print(\"Model training and evaluation complete!\")\n",
    "print(\"Check 'herg_model_evaluation.png' for detailed results.\")\n"
   ]
  }
 ],
 "metadata": {
  "kernelspec": {
   "display_name": "qsar",
   "language": "python",
   "name": "python3"
  },
  "language_info": {
   "codemirror_mode": {
    "name": "ipython",
    "version": 3
   },
   "file_extension": ".py",
   "mimetype": "text/x-python",
   "name": "python",
   "nbconvert_exporter": "python",
   "pygments_lexer": "ipython3",
   "version": "3.13.7"
  }
 },
 "nbformat": 4,
 "nbformat_minor": 5
}
